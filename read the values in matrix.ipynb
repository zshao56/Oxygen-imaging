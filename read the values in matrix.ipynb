{
 "cells": [
  {
   "cell_type": "code",
   "execution_count": 32,
   "id": "initial_id",
   "metadata": {
    "collapsed": true,
    "ExecuteTime": {
     "end_time": "2024-02-15T17:22:02.614190300Z",
     "start_time": "2024-02-15T17:22:02.602009200Z"
    }
   },
   "outputs": [],
   "source": [
    "import matplotlib.pyplot as plt\n",
    "import numpy as np\n",
    "from scipy.ndimage import rotate\n",
    "from matplotlib.colors import LinearSegmentedColormap"
   ]
  },
  {
   "cell_type": "code",
   "outputs": [],
   "source": [
    "file_path = r\"F:\\0214\\meat\\meat-04_intensity_matrix.txt\"\n",
    "data = np.loadtxt(file_path)\n"
   ],
   "metadata": {
    "collapsed": false,
    "ExecuteTime": {
     "end_time": "2024-02-15T17:22:02.901405300Z",
     "start_time": "2024-02-15T17:22:02.615320300Z"
    }
   },
   "id": "4a06a732148fa729",
   "execution_count": 33
  },
  {
   "cell_type": "code",
   "outputs": [
    {
     "name": "stdout",
     "output_type": "stream",
     "text": [
      "130.5\n",
      "152.25\n",
      "134.25\n",
      "149.25\n",
      "161.25\n"
     ]
    }
   ],
   "source": [
    "points_to_read = [(600, 1000), (1000, 900), (1200, 800), (500, 800), (800, 700)]\n",
    "\n",
    "# 读取指定坐标点的数值\n",
    "for point in points_to_read:\n",
    "    x, y = point\n",
    "    value = data[y][x]\n",
    "    print(value)\n"
   ],
   "metadata": {
    "collapsed": false,
    "ExecuteTime": {
     "end_time": "2024-02-15T17:22:02.916759400Z",
     "start_time": "2024-02-15T17:22:02.904582300Z"
    }
   },
   "id": "85d6bf41edb19bc0",
   "execution_count": 34
  },
  {
   "cell_type": "code",
   "outputs": [],
   "source": [],
   "metadata": {
    "collapsed": false,
    "ExecuteTime": {
     "end_time": "2024-02-15T17:22:02.949844100Z",
     "start_time": "2024-02-15T17:22:02.918910Z"
    }
   },
   "id": "f0594280b7676dc3",
   "execution_count": 34
  }
 ],
 "metadata": {
  "kernelspec": {
   "display_name": "Python 3",
   "language": "python",
   "name": "python3"
  },
  "language_info": {
   "codemirror_mode": {
    "name": "ipython",
    "version": 2
   },
   "file_extension": ".py",
   "mimetype": "text/x-python",
   "name": "python",
   "nbconvert_exporter": "python",
   "pygments_lexer": "ipython2",
   "version": "2.7.6"
  }
 },
 "nbformat": 4,
 "nbformat_minor": 5
}
